{
 "cells": [
  {
   "cell_type": "markdown",
   "metadata": {},
   "source": [
    "https://www.bragitoff.com/2021/05/value-of-pi-using-monte-carlo-python-program/  \n",
    "Author: Manas Sharma  \n",
    "Website: www.bragitoff.com  \n",
    "Email: manassharma07@live.com  \n",
    "License: MIT  \n",
    "#### Value of Pi using Monte carlo  "
   ]
  },
  {
   "cell_type": "code",
   "execution_count": 1,
   "metadata": {
    "collapsed": true
   },
   "outputs": [],
   "source": [
    "import numpy as np"
   ]
  },
  {
   "cell_type": "code",
   "execution_count": 5,
   "metadata": {},
   "outputs": [
    {
     "name": "stdout",
     "output_type": "stream",
     "text": [
      "Value of Pi:  3.14436\n"
     ]
    }
   ],
   "source": [
    "# Input parameters\n",
    "nTrials = int(10E4)\n",
    "radius = 1\n",
    "#-------------\n",
    "# Counter for thepoints inside the circle\n",
    "nInside = 0\n",
    " \n",
    "# Generate points in a square of side 2 units, from -1 to 1.\n",
    "# XrandCoords = np.random.default_rng().uniform(-1, 1, (nTrials,)) #old lines\n",
    "# YrandCoords = np.random.default_rng().uniform(-1, 1, (nTrials,)) #old lines\n",
    "XrandCoords = np.random.uniform(-1, 1, (nTrials,))\n",
    "YrandCoords = np.random.uniform(-1, 1, (nTrials,))\n",
    "# print (XrandCoords)\n",
    "\n",
    "for i in range(nTrials):\n",
    "    x = XrandCoords[i]\n",
    "    y = YrandCoords[i]\n",
    "    # Check if the points are inside the circle or not\n",
    "    if x**2+y**2<=radius**2:\n",
    "        nInside = nInside + 1\n",
    "             \n",
    "area = 4*nInside/nTrials\n",
    "print(\"Value of Pi: \",area)"
   ]
  },
  {
   "cell_type": "markdown",
   "metadata": {},
   "source": [
    "https://www.kdnuggets.com/2020/12/monte-carlo-integration-python.html  \n",
    "#### Integral using Monte Carlo"
   ]
  },
  {
   "cell_type": "code",
   "execution_count": 27,
   "metadata": {
    "collapsed": true
   },
   "outputs": [],
   "source": [
    "import numpy as np\n",
    "from matplotlib import pyplot as plt"
   ]
  },
  {
   "cell_type": "code",
   "execution_count": 29,
   "metadata": {
    "collapsed": true
   },
   "outputs": [],
   "source": [
    "def f1(x):\n",
    "    return (15*x**3 + 21*x**2 + 41*x + 3)**(1/4)*(np.exp(-0.5*x))\n",
    "def f2(x):\n",
    "    return (x**2)"
   ]
  },
  {
   "cell_type": "code",
   "execution_count": 61,
   "metadata": {},
   "outputs": [
    {
     "data": {
      "image/png": "[encoded data removed]",
      "text/plain": [
       "<matplotlib.figure.Figure at 0x7fc0d85faf98>"
      ]
     },
     "metadata": {},
     "output_type": "display_data"
    }
   ],
   "source": [
    "x = np.linspace(0, 10, 100)\n",
    "plt.plot(x, f1(x), color='red',label=\"f1(x)\")\n",
    "# plt.plot(x, f2(x), color='green', label=\"f2(x)\")\n",
    "plt.xlabel(\"x\")\n",
    "plt.ylabel(\"f\")\n",
    "plt.legend(loc=\"best\")\n",
    "plt.grid()\n",
    "plt.show()"
   ]
  },
  {
   "cell_type": "code",
   "execution_count": 7,
   "metadata": {
    "collapsed": true
   },
   "outputs": [],
   "source": [
    "def monte_carlo_uniform(func, a=0, b=1, n=1000):\n",
    "    \n",
    "    subsets = np.arange(0, n+1, n/10)\n",
    "    steps = n/10\n",
    "    u = np.zeros(n)\n",
    "    \n",
    "    for i in range(10):\n",
    "        start = int(subsets[i])\n",
    "        end = int(subsets[i+1])\n",
    "        u[start:end] = np.random.uniform(low=1/10, high=(i+1)/10, size=end-start)\n",
    "    \n",
    "    np.random.shuffle(u)\n",
    "    u_func = func(a + (b-a)*u)\n",
    "    s = ((b-a)/n)*u_func.sum()\n",
    "    return s"
   ]
  },
  {
   "cell_type": "code",
   "execution_count": 65,
   "metadata": {},
   "outputs": [
    {
     "name": "stdout",
     "output_type": "stream",
     "text": [
      "6.69079265761\n"
     ]
    }
   ],
   "source": [
    "# as per https://www.integral-calculator.com/  the same integral is giving different results\n",
    "print(monte_carlo_uniform(f1, a=0, b=4, n=1000))"
   ]
  },
  {
   "cell_type": "code",
   "execution_count": 60,
   "metadata": {},
   "outputs": [
    {
     "name": "stdout",
     "output_type": "stream",
     "text": [
      "9.54884789425\n"
     ]
    }
   ],
   "source": [
    "# this one is simple integral (x^2) so it should give (21.33) but MC method gives 9.54 , why?\n",
    "print(monte_carlo_uniform(f2, a=0, b=4, n=10000))"
   ]
  },
  {
   "cell_type": "code",
   "execution_count": 35,
   "metadata": {
    "collapsed": true
   },
   "outputs": [],
   "source": [
    "from fractions import Fraction"
   ]
  },
  {
   "cell_type": "code",
   "execution_count": 51,
   "metadata": {},
   "outputs": [
    {
     "name": "stdout",
     "output_type": "stream",
     "text": [
      "1/4\n"
     ]
    }
   ],
   "source": [
    "print(Fraction(0.25))"
   ]
  },
  {
   "cell_type": "code",
   "execution_count": 40,
   "metadata": {},
   "outputs": [
    {
     "data": {
      "text/plain": [
       "2.3333333333333335"
      ]
     },
     "execution_count": 40,
     "metadata": {},
     "output_type": "execute_result"
    }
   ],
   "source": [
    "7./3."
   ]
  },
  {
   "cell_type": "code",
   "execution_count": null,
   "metadata": {
    "collapsed": true
   },
   "outputs": [],
   "source": []
  }
 ],
 "metadata": {
  "kernelspec": {
   "display_name": "Python 3",
   "language": "python",
   "name": "python3"
  },
  "language_info": {
   "codemirror_mode": {
    "name": "ipython",
    "version": 3
   },
   "file_extension": ".py",
   "mimetype": "text/x-python",
   "name": "python",
   "nbconvert_exporter": "python",
   "pygments_lexer": "ipython3",
   "version": "3.6.3"
  }
 },
 "nbformat": 4,
 "nbformat_minor": 4
}
